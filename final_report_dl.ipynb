{
 "cells": [
  {
   "cell_type": "code",
   "execution_count": 1,
   "id": "2e42e307-0c9d-4afe-981a-51d19f1b1fa0",
   "metadata": {
    "tags": []
   },
   "outputs": [],
   "source": [
    "import warnings\n",
    "warnings.filterwarnings(\"ignore\")\n",
    "import matplotlib.pyplot as plt\n",
    "import numpy as np\n",
    "import pandas as pd\n",
    "from datetime import datetime\n",
    "import seaborn as sns\n",
    "%matplotlib inline\n",
    "import wrangle as w\n",
    "import os\n",
    "import env\n",
    "import outliers as o\n",
    "import explore as e\n",
    "import functions as f"
   ]
  },
  {
   "cell_type": "code",
   "execution_count": 2,
   "id": "6957dd79-9e7e-4350-ace0-1155526a9014",
   "metadata": {
    "tags": []
   },
   "outputs": [],
   "source": [
    "df = w.prep_log_data()"
   ]
  },
  {
   "cell_type": "code",
   "execution_count": 3,
   "id": "4ec5c356-0179-484b-937e-242490b1af83",
   "metadata": {
    "tags": []
   },
   "outputs": [
    {
     "data": {
      "text/html": [
       "<div>\n",
       "<style scoped>\n",
       "    .dataframe tbody tr th:only-of-type {\n",
       "        vertical-align: middle;\n",
       "    }\n",
       "\n",
       "    .dataframe tbody tr th {\n",
       "        vertical-align: top;\n",
       "    }\n",
       "\n",
       "    .dataframe thead th {\n",
       "        text-align: right;\n",
       "    }\n",
       "</style>\n",
       "<table border=\"1\" class=\"dataframe\">\n",
       "  <thead>\n",
       "    <tr style=\"text-align: right;\">\n",
       "      <th></th>\n",
       "      <th>time</th>\n",
       "      <th>path</th>\n",
       "      <th>user_id</th>\n",
       "      <th>cohort_id</th>\n",
       "      <th>ip</th>\n",
       "      <th>id</th>\n",
       "      <th>name</th>\n",
       "      <th>slack</th>\n",
       "      <th>start_date</th>\n",
       "      <th>end_date</th>\n",
       "      <th>created_at</th>\n",
       "      <th>updated_at</th>\n",
       "      <th>program_id</th>\n",
       "    </tr>\n",
       "    <tr>\n",
       "      <th>date</th>\n",
       "      <th></th>\n",
       "      <th></th>\n",
       "      <th></th>\n",
       "      <th></th>\n",
       "      <th></th>\n",
       "      <th></th>\n",
       "      <th></th>\n",
       "      <th></th>\n",
       "      <th></th>\n",
       "      <th></th>\n",
       "      <th></th>\n",
       "      <th></th>\n",
       "      <th></th>\n",
       "    </tr>\n",
       "  </thead>\n",
       "  <tbody>\n",
       "    <tr>\n",
       "      <th>2018-01-26</th>\n",
       "      <td>09:55:03</td>\n",
       "      <td>/</td>\n",
       "      <td>1</td>\n",
       "      <td>8</td>\n",
       "      <td>97.105.19.61</td>\n",
       "      <td>8</td>\n",
       "      <td>Hampton</td>\n",
       "      <td>#hampton</td>\n",
       "      <td>2015-09-22</td>\n",
       "      <td>2016-02-06</td>\n",
       "      <td>2016-06-14 19:52:26</td>\n",
       "      <td>2016-06-14 19:52:26</td>\n",
       "      <td>1</td>\n",
       "    </tr>\n",
       "    <tr>\n",
       "      <th>2018-01-26</th>\n",
       "      <td>09:56:02</td>\n",
       "      <td>java-ii</td>\n",
       "      <td>1</td>\n",
       "      <td>8</td>\n",
       "      <td>97.105.19.61</td>\n",
       "      <td>8</td>\n",
       "      <td>Hampton</td>\n",
       "      <td>#hampton</td>\n",
       "      <td>2015-09-22</td>\n",
       "      <td>2016-02-06</td>\n",
       "      <td>2016-06-14 19:52:26</td>\n",
       "      <td>2016-06-14 19:52:26</td>\n",
       "      <td>1</td>\n",
       "    </tr>\n",
       "    <tr>\n",
       "      <th>2018-01-26</th>\n",
       "      <td>09:56:05</td>\n",
       "      <td>java-ii/object-oriented-programming</td>\n",
       "      <td>1</td>\n",
       "      <td>8</td>\n",
       "      <td>97.105.19.61</td>\n",
       "      <td>8</td>\n",
       "      <td>Hampton</td>\n",
       "      <td>#hampton</td>\n",
       "      <td>2015-09-22</td>\n",
       "      <td>2016-02-06</td>\n",
       "      <td>2016-06-14 19:52:26</td>\n",
       "      <td>2016-06-14 19:52:26</td>\n",
       "      <td>1</td>\n",
       "    </tr>\n",
       "    <tr>\n",
       "      <th>2018-01-26</th>\n",
       "      <td>09:56:06</td>\n",
       "      <td>slides/object_oriented_programming</td>\n",
       "      <td>1</td>\n",
       "      <td>8</td>\n",
       "      <td>97.105.19.61</td>\n",
       "      <td>8</td>\n",
       "      <td>Hampton</td>\n",
       "      <td>#hampton</td>\n",
       "      <td>2015-09-22</td>\n",
       "      <td>2016-02-06</td>\n",
       "      <td>2016-06-14 19:52:26</td>\n",
       "      <td>2016-06-14 19:52:26</td>\n",
       "      <td>1</td>\n",
       "    </tr>\n",
       "    <tr>\n",
       "      <th>2018-01-26</th>\n",
       "      <td>09:56:24</td>\n",
       "      <td>javascript-i/conditionals</td>\n",
       "      <td>2</td>\n",
       "      <td>22</td>\n",
       "      <td>97.105.19.61</td>\n",
       "      <td>22</td>\n",
       "      <td>Teddy</td>\n",
       "      <td>#teddy</td>\n",
       "      <td>2018-01-08</td>\n",
       "      <td>2018-05-17</td>\n",
       "      <td>2018-01-08 13:59:10</td>\n",
       "      <td>2018-01-08 13:59:10</td>\n",
       "      <td>2</td>\n",
       "    </tr>\n",
       "  </tbody>\n",
       "</table>\n",
       "</div>"
      ],
      "text/plain": [
       "                time                                 path  user_id  cohort_id  \\\n",
       "date                                                                            \n",
       "2018-01-26  09:55:03                                    /        1          8   \n",
       "2018-01-26  09:56:02                              java-ii        1          8   \n",
       "2018-01-26  09:56:05  java-ii/object-oriented-programming        1          8   \n",
       "2018-01-26  09:56:06   slides/object_oriented_programming        1          8   \n",
       "2018-01-26  09:56:24            javascript-i/conditionals        2         22   \n",
       "\n",
       "                      ip  id     name     slack start_date   end_date  \\\n",
       "date                                                                    \n",
       "2018-01-26  97.105.19.61   8  Hampton  #hampton 2015-09-22 2016-02-06   \n",
       "2018-01-26  97.105.19.61   8  Hampton  #hampton 2015-09-22 2016-02-06   \n",
       "2018-01-26  97.105.19.61   8  Hampton  #hampton 2015-09-22 2016-02-06   \n",
       "2018-01-26  97.105.19.61   8  Hampton  #hampton 2015-09-22 2016-02-06   \n",
       "2018-01-26  97.105.19.61  22    Teddy    #teddy 2018-01-08 2018-05-17   \n",
       "\n",
       "                    created_at          updated_at  program_id  \n",
       "date                                                            \n",
       "2018-01-26 2016-06-14 19:52:26 2016-06-14 19:52:26           1  \n",
       "2018-01-26 2016-06-14 19:52:26 2016-06-14 19:52:26           1  \n",
       "2018-01-26 2016-06-14 19:52:26 2016-06-14 19:52:26           1  \n",
       "2018-01-26 2016-06-14 19:52:26 2016-06-14 19:52:26           1  \n",
       "2018-01-26 2018-01-08 13:59:10 2018-01-08 13:59:10           2  "
      ]
     },
     "execution_count": 3,
     "metadata": {},
     "output_type": "execute_result"
    }
   ],
   "source": [
    "df.head()"
   ]
  },
  {
   "cell_type": "markdown",
   "id": "72c3a070-bd73-4669-b3f1-1eaf44102a23",
   "metadata": {},
   "source": [
    "##  1. Which lesson appears to attract the most traffic consistently across cohorts (per program)?"
   ]
  },
  {
   "cell_type": "markdown",
   "id": "13af27a7-2a62-4d0b-a1f3-02b55077acc3",
   "metadata": {},
   "source": [
    "#### Program 1"
   ]
  },
  {
   "cell_type": "code",
   "execution_count": 4,
   "id": "d414d554-ed39-47ba-ab20-2d3177a42c2f",
   "metadata": {},
   "outputs": [
    {
     "name": "stdout",
     "output_type": "stream",
     "text": [
      "Top 4 most visited lessons:\n",
      "Lesson Path: /\n",
      "Total Traffic: 1681\n",
      "---------------------------\n",
      "Lesson Path: index.html\n",
      "Total Traffic: 1011\n",
      "---------------------------\n",
      "Lesson Path: javascript-i\n",
      "Total Traffic: 736\n",
      "---------------------------\n",
      "Lesson Path: html-css\n",
      "Total Traffic: 542\n",
      "---------------------------\n"
     ]
    }
   ],
   "source": [
    "f.print_top_lessons1(df)"
   ]
  },
  {
   "cell_type": "markdown",
   "id": "d33ca65e-c579-4a58-962c-23af1371480a",
   "metadata": {},
   "source": [
    "#### For program 1 the most visited lesson was javascript-1"
   ]
  },
  {
   "cell_type": "markdown",
   "id": "ccbb350c-3c1d-483a-920a-3ec33232d00e",
   "metadata": {},
   "source": [
    "#### Program 2"
   ]
  },
  {
   "cell_type": "code",
   "execution_count": 5,
   "id": "7d3fc093-0bfd-4122-ae26-b39e93cbb8b4",
   "metadata": {
    "tags": []
   },
   "outputs": [
    {
     "name": "stdout",
     "output_type": "stream",
     "text": [
      "Top 4 most visited lessons:\n",
      "Lesson Path: /\n",
      "Total Traffic: 35814\n",
      "---------------------------\n",
      "Lesson Path: javascript-i\n",
      "Total Traffic: 17457\n",
      "---------------------------\n",
      "Lesson Path: toc\n",
      "Total Traffic: 17428\n",
      "---------------------------\n",
      "Lesson Path: search/search_index.json\n",
      "Total Traffic: 15212\n",
      "---------------------------\n"
     ]
    }
   ],
   "source": [
    "f.print_top_lessons2(df)"
   ]
  },
  {
   "cell_type": "markdown",
   "id": "5826e9c4-8280-49d7-8dc2-9b79a6119c58",
   "metadata": {},
   "source": [
    "#### For program 2 the most visited lesson was javascript-1"
   ]
  },
  {
   "cell_type": "markdown",
   "id": "089f646a-07b6-4c6f-8746-f1215ee55e22",
   "metadata": {},
   "source": [
    "#### Program 3"
   ]
  },
  {
   "cell_type": "code",
   "execution_count": 6,
   "id": "89dcaaa0-8ba3-478b-a13c-1a01c5a3b116",
   "metadata": {},
   "outputs": [
    {
     "name": "stdout",
     "output_type": "stream",
     "text": [
      "Top 4 most visited lessons:\n",
      "Lesson Path: /\n",
      "Total Traffic: 8358\n",
      "---------------------------\n",
      "Lesson Path: search/search_index.json\n",
      "Total Traffic: 2203\n",
      "---------------------------\n",
      "Lesson Path: classification/overview\n",
      "Total Traffic: 1785\n",
      "---------------------------\n",
      "Lesson Path: 1-fundamentals/modern-data-scientist.jpg\n",
      "Total Traffic: 1655\n",
      "---------------------------\n"
     ]
    }
   ],
   "source": [
    "f.print_top_lessons3(df)"
   ]
  },
  {
   "cell_type": "markdown",
   "id": "3c1e2bd7-b9aa-4a19-beb1-f39917a9e8b9",
   "metadata": {},
   "source": [
    "#### For program 3 the most visited lesson was classification/overview"
   ]
  },
  {
   "cell_type": "markdown",
   "id": "49143fb0-64eb-4eab-a18e-bc899b70c7c6",
   "metadata": {},
   "source": [
    "#### Program 4"
   ]
  },
  {
   "cell_type": "code",
   "execution_count": 7,
   "id": "04296144-c422-4e47-9f0f-c864dbe6f14b",
   "metadata": {},
   "outputs": [
    {
     "name": "stdout",
     "output_type": "stream",
     "text": [
      "Top 4 most visited lessons:\n",
      "Lesson Path: content/html-css\n",
      "Total Traffic: 2\n",
      "---------------------------\n",
      "Lesson Path: /\n",
      "Total Traffic: 1\n",
      "---------------------------\n",
      "Lesson Path: content/html-css/gitbook/images/favicon.ico\n",
      "Total Traffic: 1\n",
      "---------------------------\n",
      "Lesson Path: content/html-css/introduction.html\n",
      "Total Traffic: 1\n",
      "---------------------------\n"
     ]
    }
   ],
   "source": [
    "f.print_top_lessons4(df)"
   ]
  },
  {
   "cell_type": "markdown",
   "id": "95e3aea4-59be-4f1a-ba9c-50d34fdf926b",
   "metadata": {},
   "source": [
    "#### For program 4 the most visited lesson was content/html-css"
   ]
  },
  {
   "cell_type": "markdown",
   "id": "ceae6786-2188-49f6-a269-44f2e343e59d",
   "metadata": {},
   "source": [
    "## 2. Is there a cohort that referred to a lesson significantly more than other cohorts seemed to gloss over?"
   ]
  },
  {
   "cell_type": "markdown",
   "id": "2abc8baf",
   "metadata": {},
   "source": [
    "### Acquire and Prep"
   ]
  },
  {
   "cell_type": "code",
   "execution_count": 8,
   "id": "52d7843e-76bf-48e9-9cb6-c2794d5d269e",
   "metadata": {},
   "outputs": [],
   "source": [
    "df = w.get_log_data()\n",
    "df = w.prep_log_data()"
   ]
  },
  {
   "cell_type": "markdown",
   "id": "3175786f",
   "metadata": {},
   "source": [
    "### Take cohort #28 out as they are Staff and remove cohort null values"
   ]
  },
  {
   "cell_type": "code",
   "execution_count": 9,
   "id": "2ba46c62",
   "metadata": {},
   "outputs": [],
   "source": [
    "df = df[df.cohort_id != 28.0]\n",
    "df = df[df.cohort_id.notnull()]"
   ]
  },
  {
   "cell_type": "markdown",
   "id": "0886c1ee",
   "metadata": {},
   "source": [
    "### I am grouping by cohort_id and path, counting the amount of hits by cohort for each path"
   ]
  },
  {
   "cell_type": "code",
   "execution_count": 10,
   "id": "5948a9f2",
   "metadata": {},
   "outputs": [
    {
     "data": {
      "text/html": [
       "<div>\n",
       "<style scoped>\n",
       "    .dataframe tbody tr th:only-of-type {\n",
       "        vertical-align: middle;\n",
       "    }\n",
       "\n",
       "    .dataframe tbody tr th {\n",
       "        vertical-align: top;\n",
       "    }\n",
       "\n",
       "    .dataframe thead th {\n",
       "        text-align: right;\n",
       "    }\n",
       "</style>\n",
       "<table border=\"1\" class=\"dataframe\">\n",
       "  <thead>\n",
       "    <tr style=\"text-align: right;\">\n",
       "      <th></th>\n",
       "      <th>cohort_id</th>\n",
       "      <th>path</th>\n",
       "      <th>size</th>\n",
       "    </tr>\n",
       "  </thead>\n",
       "  <tbody>\n",
       "    <tr>\n",
       "      <th>0</th>\n",
       "      <td>1</td>\n",
       "      <td>/</td>\n",
       "      <td>626</td>\n",
       "    </tr>\n",
       "    <tr>\n",
       "      <th>1</th>\n",
       "      <td>1</td>\n",
       "      <td>0_Classification_Algorithms</td>\n",
       "      <td>1</td>\n",
       "    </tr>\n",
       "    <tr>\n",
       "      <th>2</th>\n",
       "      <td>1</td>\n",
       "      <td>2.0_Intro_Stats</td>\n",
       "      <td>1</td>\n",
       "    </tr>\n",
       "    <tr>\n",
       "      <th>3</th>\n",
       "      <td>1</td>\n",
       "      <td>5.0_Intro_Regression</td>\n",
       "      <td>2</td>\n",
       "    </tr>\n",
       "    <tr>\n",
       "      <th>4</th>\n",
       "      <td>1</td>\n",
       "      <td>7.0_Intro_Clustering</td>\n",
       "      <td>2</td>\n",
       "    </tr>\n",
       "    <tr>\n",
       "      <th>...</th>\n",
       "      <td>...</td>\n",
       "      <td>...</td>\n",
       "      <td>...</td>\n",
       "    </tr>\n",
       "    <tr>\n",
       "      <th>12156</th>\n",
       "      <td>139</td>\n",
       "      <td>jquery</td>\n",
       "      <td>4</td>\n",
       "    </tr>\n",
       "    <tr>\n",
       "      <th>12157</th>\n",
       "      <td>139</td>\n",
       "      <td>jquery/essential-methods/attributes-and-css</td>\n",
       "      <td>1</td>\n",
       "    </tr>\n",
       "    <tr>\n",
       "      <th>12158</th>\n",
       "      <td>139</td>\n",
       "      <td>search/search_index.json</td>\n",
       "      <td>9</td>\n",
       "    </tr>\n",
       "    <tr>\n",
       "      <th>12159</th>\n",
       "      <td>139</td>\n",
       "      <td>spring</td>\n",
       "      <td>2</td>\n",
       "    </tr>\n",
       "    <tr>\n",
       "      <th>12160</th>\n",
       "      <td>139</td>\n",
       "      <td>toc</td>\n",
       "      <td>101</td>\n",
       "    </tr>\n",
       "  </tbody>\n",
       "</table>\n",
       "<p>12161 rows × 3 columns</p>\n",
       "</div>"
      ],
      "text/plain": [
       "       cohort_id                                         path  size\n",
       "0              1                                            /   626\n",
       "1              1                  0_Classification_Algorithms     1\n",
       "2              1                              2.0_Intro_Stats     1\n",
       "3              1                         5.0_Intro_Regression     2\n",
       "4              1                         7.0_Intro_Clustering     2\n",
       "...          ...                                          ...   ...\n",
       "12156        139                                       jquery     4\n",
       "12157        139  jquery/essential-methods/attributes-and-css     1\n",
       "12158        139                     search/search_index.json     9\n",
       "12159        139                                       spring     2\n",
       "12160        139                                          toc   101\n",
       "\n",
       "[12161 rows x 3 columns]"
      ]
     },
     "execution_count": 10,
     "metadata": {},
     "output_type": "execute_result"
    }
   ],
   "source": [
    "df_combined = df.groupby(['cohort_id', 'path'], as_index=False).size()\n",
    "df_combined"
   ]
  },
  {
   "cell_type": "markdown",
   "id": "0aa78d0d",
   "metadata": {},
   "source": [
    "### This function loops through each path and does the following:\n",
    "* Masks the combined dataframe for the path\n",
    "* Calculates the mean, max, standard deviation and upper/lower bounds of how many times the cohorts visited this page\n",
    "* Finds outliers at the 3 standard deviation level\n",
    "* Further limits the list to catch only one outlier (representing one single cohort going to the page while all others don't visit that much)\n",
    "* prints out the scatterplot of cohort_id and visits for each page\n",
    "* Returns list of paths to be zipped with the cohort list below"
   ]
  },
  {
   "cell_type": "code",
   "execution_count": 11,
   "id": "6a939ed3",
   "metadata": {},
   "outputs": [
    {
     "ename": "AttributeError",
     "evalue": "module 'functions' has no attribute 'find_outliers'",
     "output_type": "error",
     "traceback": [
      "\u001b[0;31m---------------------------------------------------------------------------\u001b[0m",
      "\u001b[0;31mAttributeError\u001b[0m                            Traceback (most recent call last)",
      "Cell \u001b[0;32mIn[11], line 1\u001b[0m\n\u001b[0;32m----> 1\u001b[0m list_of_paths \u001b[38;5;241m=\u001b[39m \u001b[43mf\u001b[49m\u001b[38;5;241;43m.\u001b[39;49m\u001b[43mfind_outliers\u001b[49m(df_combined)\n",
      "\u001b[0;31mAttributeError\u001b[0m: module 'functions' has no attribute 'find_outliers'"
     ]
    }
   ],
   "source": [
    "list_of_paths = f.find_outliers(df_combined) "
   ]
  },
  {
   "cell_type": "markdown",
   "id": "a6770226",
   "metadata": {},
   "source": [
    "### Manual entry of the cohort numbers for MVP"
   ]
  },
  {
   "cell_type": "code",
   "execution_count": null,
   "id": "2724671d-d627-4e67-b50e-ebb4f7794307",
   "metadata": {},
   "outputs": [],
   "source": [
    "list_of_cohorts = [132,33,135,61,61,31,22,13,13,13,17,13,13,13,13,13,13,13,13,31,33,14,51,22,24,24,24,56,22,22,22,24,24,32,135,62,57]"
   ]
  },
  {
   "cell_type": "markdown",
   "id": "a8aa6c18",
   "metadata": {},
   "source": [
    "### Zip the list_of_paths with list_of_cohorts and shows as a dataframe"
   ]
  },
  {
   "cell_type": "code",
   "execution_count": null,
   "id": "a6accb4d",
   "metadata": {},
   "outputs": [],
   "source": [
    "cohort_website = zip(list_of_cohorts, list_of_paths)\n",
    "zipped_list = pd.DataFrame(list(cohort_website)).rename(columns={0:'Cohort Id', 1:'Website'})\n",
    "zipped_list"
   ]
  },
  {
   "cell_type": "markdown",
   "id": "844be23b",
   "metadata": {},
   "source": [
    "### The above dataframe shows the cohort and path combinations found"
   ]
  },
  {
   "cell_type": "markdown",
   "id": "ccb07cbf-a21e-4bf9-9cee-f887746c79b3",
   "metadata": {},
   "source": [
    "## 3. Are there students who, when active, hardly access the curriculum? If so, what information do you have about these students?"
   ]
  },
  {
   "cell_type": "markdown",
   "id": "78180379",
   "metadata": {},
   "source": [
    "Yes. The following students did not have many spikes in access for the curriculum after visualizing their usage: 13, 16, 59, 69, 70, 76, 90, 93, 94, 101, 102, 103, 104, 106, 109, 115, 139, 147, 156, 166, 168, 170, 178, 179, 210, 213, 214, 257, 313, 316, 371, 459, 461, 486, 513, 539, 573, 610, 611, 620, 647, 650, 778, 779, 817, 855, 894\n",
    "\n",
    "The activity for these users tended to follow a pattern of a large spike of initial access, a delay of several months, and then another spike of activity. Likely, these students downloaded what they needed at first and then re-downloaded again after a curriculum update or when starting a new job. "
   ]
  },
  {
   "cell_type": "code",
   "execution_count": null,
   "id": "5aefe54e-e1d4-4d57-ac37-008a9aa7f8ee",
   "metadata": {},
   "outputs": [],
   "source": [
    "# Creates a dataframe of anomalies given weight of recent values and span. This produces usage for all users with unsusual activity.\n",
    "span = 30\n",
    "weight = 3\n",
    "\n",
    "anomalies = pd.DataFrame()\n",
    "for u in list(df.user_id.unique()):\n",
    "    user_df = e.find_anomalies(df, u, span, weight, plot=True)\n",
    "    anomalies = pd.concat([anomalies, user_df], axis=0)"
   ]
  },
  {
   "cell_type": "markdown",
   "id": "fa8676df-b6bc-4932-9979-45f966bc7299",
   "metadata": {},
   "source": [
    "## 4. Is there any suspicious activity, such as users/machines/etc accessing the curriculum who shouldn’t be? Does it appear that any web-scraping is happening? Are there any suspicious IP addresses?"
   ]
  },
  {
   "cell_type": "markdown",
   "id": "fa0716e1",
   "metadata": {},
   "source": [
    "Yes. 78 unique users have no affiliated Codeup data. This indicates that these are users accessing curriculum who are not affiliated with Codeup. \n",
    "\n",
    "After creating a dataframe of access with no affiliated Codeup data, we broke down this dataframe by amount of access by IP. There were 12 IPs who accessed Codeup data in over 1000 events. The top IP, however, seems to be associated with both users with affiliated Codeup data and those without, indicating that this IP may not be suspicious."
   ]
  },
  {
   "cell_type": "code",
   "execution_count": null,
   "id": "11f12c2d",
   "metadata": {},
   "outputs": [],
   "source": [
    "# creates separate dataframe that includes null values for analyis\n",
    "df_2 = w.prep_log_data2()"
   ]
  },
  {
   "cell_type": "code",
   "execution_count": null,
   "id": "7f7599b0-d97d-4a4f-8b30-658dfd77cfdd",
   "metadata": {},
   "outputs": [],
   "source": [
    "# creates dataframe of all user access events where the user has no affiliated data\n",
    "df_sus = df_2[df_2['id'].isna()]"
   ]
  },
  {
   "cell_type": "code",
   "execution_count": null,
   "id": "ec4452b0-b956-47b7-aa70-3d18f4c16094",
   "metadata": {},
   "outputs": [],
   "source": [
    "# creates list of unique users with no affiliated data (not part of Codeup)\n",
    "df_sus.user_id.unique()"
   ]
  },
  {
   "cell_type": "code",
   "execution_count": null,
   "id": "3fc218b8-41fb-4982-904c-de9b4f705952",
   "metadata": {},
   "outputs": [],
   "source": [
    "# shows list of ips with highest access to curriculum with no Codeup affiliated data\n",
    "df_sus.ip.value_counts().head(15)"
   ]
  },
  {
   "cell_type": "code",
   "execution_count": null,
   "id": "ced432aa",
   "metadata": {},
   "outputs": [],
   "source": [
    "# shows that this particular IP is associated with both suspicious and not suspicious users\n",
    "df_2.loc[df_2['ip'] == '97.105.19.58']"
   ]
  },
  {
   "cell_type": "markdown",
   "id": "e2464df1-5533-47dd-92c3-31d3c1c45b7d",
   "metadata": {},
   "source": [
    "## 7.  Which lessons are least accessed?"
   ]
  },
  {
   "cell_type": "code",
   "execution_count": null,
   "id": "67342229-ca8c-4d9d-9a0b-ffdde4550fbf",
   "metadata": {},
   "outputs": [],
   "source": [
    "lessons = df[[\"program_id\", \"cohort_id\", \"path\"]]\n",
    "\n",
    "result_dataframe = f.process_lessons_data(lessons)"
   ]
  },
  {
   "cell_type": "code",
   "execution_count": null,
   "id": "590aae81-1156-4f7d-8362-4387a81ac6f9",
   "metadata": {},
   "outputs": [],
   "source": [
    "result_dataframe"
   ]
  },
  {
   "cell_type": "markdown",
   "id": "0322d347-99de-449c-92b7-30a32ec32473",
   "metadata": {},
   "source": [
    "## Looking through the lessons with the least traffic which was 1, there were lessons that no longer exist in the current curriculum and had testing titles such as asdfasdf as the lesson name. This tells me that there may at some point have been testing website pages. I would need a current website paths to ensure I am not delivering lessons that were \"least accessed\" that were never technically a lesson to began with. Using the current data, here are the 5 least visited lessons"
   ]
  },
  {
   "cell_type": "markdown",
   "id": "ab755d8c-2a1f-4932-87a5-9c145920b2e3",
   "metadata": {},
   "source": [
    "- nlp/2-regular-expressions\n",
    "- nlp/3-acquire\n",
    "- nlp/exercises\n",
    "- distributed-ml/3-getting-started\n",
    "- distributed-ml/4-acquire"
   ]
  },
  {
   "cell_type": "markdown",
   "id": "ffd96ba7-fdc8-46d1-a4a8-6f6c401ba67e",
   "metadata": {},
   "source": [
    "*** There are 185 more lessons with a traffic of 1, this is just 5 ***"
   ]
  }
 ],
 "metadata": {
  "kernelspec": {
   "display_name": "Python 3 (ipykernel)",
   "language": "python",
   "name": "python3"
  },
  "language_info": {
   "codemirror_mode": {
    "name": "ipython",
    "version": 3
   },
   "file_extension": ".py",
   "mimetype": "text/x-python",
   "name": "python",
   "nbconvert_exporter": "python",
   "pygments_lexer": "ipython3",
   "version": "3.10.9"
  }
 },
 "nbformat": 4,
 "nbformat_minor": 5
}
