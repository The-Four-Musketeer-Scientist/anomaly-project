{
 "cells": [
  {
   "cell_type": "code",
   "execution_count": 1,
   "id": "f38a6d85-740c-412b-a97a-37c7520b4d79",
   "metadata": {
    "tags": []
   },
   "outputs": [],
   "source": [
    "import warnings\n",
    "warnings.filterwarnings(\"ignore\")\n",
    "import matplotlib.pyplot as plt\n",
    "\n",
    "import numpy as np\n",
    "import pandas as pd\n",
    "from datetime import datetime\n",
    "import seaborn as sns\n",
    "%matplotlib inline\n",
    "import wrangle as w\n",
    "import os\n",
    "import env"
   ]
  },
  {
   "cell_type": "code",
   "execution_count": 2,
   "id": "5e3dfdf0-0707-4b33-8856-b2fcf206c727",
   "metadata": {
    "tags": []
   },
   "outputs": [],
   "source": [
    "df = w.prep_log_data()"
   ]
  },
  {
   "cell_type": "code",
   "execution_count": 3,
   "id": "09b72bc6-caaa-4dd6-8b00-cab6cd754f35",
   "metadata": {
    "tags": []
   },
   "outputs": [
    {
     "data": {
      "text/html": [
       "<div>\n",
       "<style scoped>\n",
       "    .dataframe tbody tr th:only-of-type {\n",
       "        vertical-align: middle;\n",
       "    }\n",
       "\n",
       "    .dataframe tbody tr th {\n",
       "        vertical-align: top;\n",
       "    }\n",
       "\n",
       "    .dataframe thead th {\n",
       "        text-align: right;\n",
       "    }\n",
       "</style>\n",
       "<table border=\"1\" class=\"dataframe\">\n",
       "  <thead>\n",
       "    <tr style=\"text-align: right;\">\n",
       "      <th></th>\n",
       "      <th>time</th>\n",
       "      <th>path</th>\n",
       "      <th>user_id</th>\n",
       "      <th>cohort_id</th>\n",
       "      <th>ip</th>\n",
       "      <th>id</th>\n",
       "      <th>name</th>\n",
       "      <th>slack</th>\n",
       "      <th>start_date</th>\n",
       "      <th>end_date</th>\n",
       "      <th>created_at</th>\n",
       "      <th>updated_at</th>\n",
       "      <th>deleted_at</th>\n",
       "      <th>program_id</th>\n",
       "    </tr>\n",
       "    <tr>\n",
       "      <th>date</th>\n",
       "      <th></th>\n",
       "      <th></th>\n",
       "      <th></th>\n",
       "      <th></th>\n",
       "      <th></th>\n",
       "      <th></th>\n",
       "      <th></th>\n",
       "      <th></th>\n",
       "      <th></th>\n",
       "      <th></th>\n",
       "      <th></th>\n",
       "      <th></th>\n",
       "      <th></th>\n",
       "      <th></th>\n",
       "    </tr>\n",
       "  </thead>\n",
       "  <tbody>\n",
       "    <tr>\n",
       "      <th>2018-01-26</th>\n",
       "      <td>09:55:03</td>\n",
       "      <td>/</td>\n",
       "      <td>1</td>\n",
       "      <td>8.0</td>\n",
       "      <td>97.105.19.61</td>\n",
       "      <td>8.0</td>\n",
       "      <td>Hampton</td>\n",
       "      <td>#hampton</td>\n",
       "      <td>2015-09-22</td>\n",
       "      <td>2016-02-06</td>\n",
       "      <td>2016-06-14 19:52:26</td>\n",
       "      <td>2016-06-14 19:52:26</td>\n",
       "      <td>NaN</td>\n",
       "      <td>1.0</td>\n",
       "    </tr>\n",
       "    <tr>\n",
       "      <th>2018-01-26</th>\n",
       "      <td>09:56:02</td>\n",
       "      <td>java-ii</td>\n",
       "      <td>1</td>\n",
       "      <td>8.0</td>\n",
       "      <td>97.105.19.61</td>\n",
       "      <td>8.0</td>\n",
       "      <td>Hampton</td>\n",
       "      <td>#hampton</td>\n",
       "      <td>2015-09-22</td>\n",
       "      <td>2016-02-06</td>\n",
       "      <td>2016-06-14 19:52:26</td>\n",
       "      <td>2016-06-14 19:52:26</td>\n",
       "      <td>NaN</td>\n",
       "      <td>1.0</td>\n",
       "    </tr>\n",
       "    <tr>\n",
       "      <th>2018-01-26</th>\n",
       "      <td>09:56:05</td>\n",
       "      <td>java-ii/object-oriented-programming</td>\n",
       "      <td>1</td>\n",
       "      <td>8.0</td>\n",
       "      <td>97.105.19.61</td>\n",
       "      <td>8.0</td>\n",
       "      <td>Hampton</td>\n",
       "      <td>#hampton</td>\n",
       "      <td>2015-09-22</td>\n",
       "      <td>2016-02-06</td>\n",
       "      <td>2016-06-14 19:52:26</td>\n",
       "      <td>2016-06-14 19:52:26</td>\n",
       "      <td>NaN</td>\n",
       "      <td>1.0</td>\n",
       "    </tr>\n",
       "    <tr>\n",
       "      <th>2018-01-26</th>\n",
       "      <td>09:56:06</td>\n",
       "      <td>slides/object_oriented_programming</td>\n",
       "      <td>1</td>\n",
       "      <td>8.0</td>\n",
       "      <td>97.105.19.61</td>\n",
       "      <td>8.0</td>\n",
       "      <td>Hampton</td>\n",
       "      <td>#hampton</td>\n",
       "      <td>2015-09-22</td>\n",
       "      <td>2016-02-06</td>\n",
       "      <td>2016-06-14 19:52:26</td>\n",
       "      <td>2016-06-14 19:52:26</td>\n",
       "      <td>NaN</td>\n",
       "      <td>1.0</td>\n",
       "    </tr>\n",
       "    <tr>\n",
       "      <th>2018-01-26</th>\n",
       "      <td>09:56:24</td>\n",
       "      <td>javascript-i/conditionals</td>\n",
       "      <td>2</td>\n",
       "      <td>22.0</td>\n",
       "      <td>97.105.19.61</td>\n",
       "      <td>22.0</td>\n",
       "      <td>Teddy</td>\n",
       "      <td>#teddy</td>\n",
       "      <td>2018-01-08</td>\n",
       "      <td>2018-05-17</td>\n",
       "      <td>2018-01-08 13:59:10</td>\n",
       "      <td>2018-01-08 13:59:10</td>\n",
       "      <td>NaN</td>\n",
       "      <td>2.0</td>\n",
       "    </tr>\n",
       "    <tr>\n",
       "      <th>...</th>\n",
       "      <td>...</td>\n",
       "      <td>...</td>\n",
       "      <td>...</td>\n",
       "      <td>...</td>\n",
       "      <td>...</td>\n",
       "      <td>...</td>\n",
       "      <td>...</td>\n",
       "      <td>...</td>\n",
       "      <td>...</td>\n",
       "      <td>...</td>\n",
       "      <td>...</td>\n",
       "      <td>...</td>\n",
       "      <td>...</td>\n",
       "      <td>...</td>\n",
       "    </tr>\n",
       "    <tr>\n",
       "      <th>2021-04-21</th>\n",
       "      <td>16:41:51</td>\n",
       "      <td>jquery/personal-site</td>\n",
       "      <td>64</td>\n",
       "      <td>28.0</td>\n",
       "      <td>71.150.217.33</td>\n",
       "      <td>28.0</td>\n",
       "      <td>Staff</td>\n",
       "      <td>#</td>\n",
       "      <td>2014-02-04</td>\n",
       "      <td>2014-02-04</td>\n",
       "      <td>2018-12-06 17:04:19</td>\n",
       "      <td>2018-12-06 17:04:19</td>\n",
       "      <td>NaN</td>\n",
       "      <td>2.0</td>\n",
       "    </tr>\n",
       "    <tr>\n",
       "      <th>2021-04-21</th>\n",
       "      <td>16:42:02</td>\n",
       "      <td>jquery/mapbox-api</td>\n",
       "      <td>64</td>\n",
       "      <td>28.0</td>\n",
       "      <td>71.150.217.33</td>\n",
       "      <td>28.0</td>\n",
       "      <td>Staff</td>\n",
       "      <td>#</td>\n",
       "      <td>2014-02-04</td>\n",
       "      <td>2014-02-04</td>\n",
       "      <td>2018-12-06 17:04:19</td>\n",
       "      <td>2018-12-06 17:04:19</td>\n",
       "      <td>NaN</td>\n",
       "      <td>2.0</td>\n",
       "    </tr>\n",
       "    <tr>\n",
       "      <th>2021-04-21</th>\n",
       "      <td>16:42:09</td>\n",
       "      <td>jquery/ajax/weather-map</td>\n",
       "      <td>64</td>\n",
       "      <td>28.0</td>\n",
       "      <td>71.150.217.33</td>\n",
       "      <td>28.0</td>\n",
       "      <td>Staff</td>\n",
       "      <td>#</td>\n",
       "      <td>2014-02-04</td>\n",
       "      <td>2014-02-04</td>\n",
       "      <td>2018-12-06 17:04:19</td>\n",
       "      <td>2018-12-06 17:04:19</td>\n",
       "      <td>NaN</td>\n",
       "      <td>2.0</td>\n",
       "    </tr>\n",
       "    <tr>\n",
       "      <th>2021-04-21</th>\n",
       "      <td>16:44:37</td>\n",
       "      <td>anomaly-detection/discrete-probabilistic-methods</td>\n",
       "      <td>744</td>\n",
       "      <td>28.0</td>\n",
       "      <td>24.160.137.86</td>\n",
       "      <td>28.0</td>\n",
       "      <td>Staff</td>\n",
       "      <td>#</td>\n",
       "      <td>2014-02-04</td>\n",
       "      <td>2014-02-04</td>\n",
       "      <td>2018-12-06 17:04:19</td>\n",
       "      <td>2018-12-06 17:04:19</td>\n",
       "      <td>NaN</td>\n",
       "      <td>2.0</td>\n",
       "    </tr>\n",
       "    <tr>\n",
       "      <th>2021-04-21</th>\n",
       "      <td>16:44:39</td>\n",
       "      <td>jquery/mapbox-api</td>\n",
       "      <td>64</td>\n",
       "      <td>28.0</td>\n",
       "      <td>71.150.217.33</td>\n",
       "      <td>28.0</td>\n",
       "      <td>Staff</td>\n",
       "      <td>#</td>\n",
       "      <td>2014-02-04</td>\n",
       "      <td>2014-02-04</td>\n",
       "      <td>2018-12-06 17:04:19</td>\n",
       "      <td>2018-12-06 17:04:19</td>\n",
       "      <td>NaN</td>\n",
       "      <td>2.0</td>\n",
       "    </tr>\n",
       "  </tbody>\n",
       "</table>\n",
       "<p>900223 rows × 14 columns</p>\n",
       "</div>"
      ],
      "text/plain": [
       "                time                                              path  \\\n",
       "date                                                                     \n",
       "2018-01-26  09:55:03                                                 /   \n",
       "2018-01-26  09:56:02                                           java-ii   \n",
       "2018-01-26  09:56:05               java-ii/object-oriented-programming   \n",
       "2018-01-26  09:56:06                slides/object_oriented_programming   \n",
       "2018-01-26  09:56:24                         javascript-i/conditionals   \n",
       "...              ...                                               ...   \n",
       "2021-04-21  16:41:51                              jquery/personal-site   \n",
       "2021-04-21  16:42:02                                 jquery/mapbox-api   \n",
       "2021-04-21  16:42:09                           jquery/ajax/weather-map   \n",
       "2021-04-21  16:44:37  anomaly-detection/discrete-probabilistic-methods   \n",
       "2021-04-21  16:44:39                                 jquery/mapbox-api   \n",
       "\n",
       "            user_id  cohort_id             ip    id     name     slack  \\\n",
       "date                                                                     \n",
       "2018-01-26        1        8.0   97.105.19.61   8.0  Hampton  #hampton   \n",
       "2018-01-26        1        8.0   97.105.19.61   8.0  Hampton  #hampton   \n",
       "2018-01-26        1        8.0   97.105.19.61   8.0  Hampton  #hampton   \n",
       "2018-01-26        1        8.0   97.105.19.61   8.0  Hampton  #hampton   \n",
       "2018-01-26        2       22.0   97.105.19.61  22.0    Teddy    #teddy   \n",
       "...             ...        ...            ...   ...      ...       ...   \n",
       "2021-04-21       64       28.0  71.150.217.33  28.0    Staff         #   \n",
       "2021-04-21       64       28.0  71.150.217.33  28.0    Staff         #   \n",
       "2021-04-21       64       28.0  71.150.217.33  28.0    Staff         #   \n",
       "2021-04-21      744       28.0  24.160.137.86  28.0    Staff         #   \n",
       "2021-04-21       64       28.0  71.150.217.33  28.0    Staff         #   \n",
       "\n",
       "            start_date    end_date           created_at           updated_at  \\\n",
       "date                                                                           \n",
       "2018-01-26  2015-09-22  2016-02-06  2016-06-14 19:52:26  2016-06-14 19:52:26   \n",
       "2018-01-26  2015-09-22  2016-02-06  2016-06-14 19:52:26  2016-06-14 19:52:26   \n",
       "2018-01-26  2015-09-22  2016-02-06  2016-06-14 19:52:26  2016-06-14 19:52:26   \n",
       "2018-01-26  2015-09-22  2016-02-06  2016-06-14 19:52:26  2016-06-14 19:52:26   \n",
       "2018-01-26  2018-01-08  2018-05-17  2018-01-08 13:59:10  2018-01-08 13:59:10   \n",
       "...                ...         ...                  ...                  ...   \n",
       "2021-04-21  2014-02-04  2014-02-04  2018-12-06 17:04:19  2018-12-06 17:04:19   \n",
       "2021-04-21  2014-02-04  2014-02-04  2018-12-06 17:04:19  2018-12-06 17:04:19   \n",
       "2021-04-21  2014-02-04  2014-02-04  2018-12-06 17:04:19  2018-12-06 17:04:19   \n",
       "2021-04-21  2014-02-04  2014-02-04  2018-12-06 17:04:19  2018-12-06 17:04:19   \n",
       "2021-04-21  2014-02-04  2014-02-04  2018-12-06 17:04:19  2018-12-06 17:04:19   \n",
       "\n",
       "            deleted_at  program_id  \n",
       "date                                \n",
       "2018-01-26         NaN         1.0  \n",
       "2018-01-26         NaN         1.0  \n",
       "2018-01-26         NaN         1.0  \n",
       "2018-01-26         NaN         1.0  \n",
       "2018-01-26         NaN         2.0  \n",
       "...                ...         ...  \n",
       "2021-04-21         NaN         2.0  \n",
       "2021-04-21         NaN         2.0  \n",
       "2021-04-21         NaN         2.0  \n",
       "2021-04-21         NaN         2.0  \n",
       "2021-04-21         NaN         2.0  \n",
       "\n",
       "[900223 rows x 14 columns]"
      ]
     },
     "execution_count": 3,
     "metadata": {},
     "output_type": "execute_result"
    }
   ],
   "source": [
    "df\n"
   ]
  },
  {
   "cell_type": "code",
   "execution_count": 4,
   "id": "1b1b55c0-b0b7-4a03-850d-184f275e5a9d",
   "metadata": {
    "tags": []
   },
   "outputs": [],
   "source": [
    "df = df.drop(columns = 'deleted_at')"
   ]
  },
  {
   "cell_type": "code",
   "execution_count": 5,
   "id": "5f54682a-ac29-4e18-942e-758116169836",
   "metadata": {
    "tags": []
   },
   "outputs": [
    {
     "data": {
      "text/plain": [
       "time           object\n",
       "path           object\n",
       "user_id         int64\n",
       "cohort_id     float64\n",
       "ip             object\n",
       "id            float64\n",
       "name           object\n",
       "slack          object\n",
       "start_date     object\n",
       "end_date       object\n",
       "created_at     object\n",
       "updated_at     object\n",
       "program_id    float64\n",
       "dtype: object"
      ]
     },
     "execution_count": 5,
     "metadata": {},
     "output_type": "execute_result"
    }
   ],
   "source": [
    "df.dtypes"
   ]
  },
  {
   "cell_type": "code",
   "execution_count": 6,
   "id": "0b345b0e-778c-4da1-a4ed-96ae0299d262",
   "metadata": {},
   "outputs": [],
   "source": [
    "df.dropna(inplace=True)"
   ]
  },
  {
   "cell_type": "code",
   "execution_count": 7,
   "id": "9e68e76d-b7c5-437e-ae37-948dd57bf60b",
   "metadata": {
    "tags": []
   },
   "outputs": [],
   "source": [
    "df['time'] = df['time'].astype(str)\n",
    "df['cohort_id'] = df['cohort_id'].astype(int)\n",
    "df['id'] = df['id'].astype(int)\n",
    "df['start_date'] = pd.to_datetime(df['start_date'])\n",
    "df['end_date'] = pd.to_datetime(df['end_date'])\n",
    "df['created_at'] = pd.to_datetime(df['created_at'])\n",
    "df['updated_at'] = pd.to_datetime(df['updated_at'])\n",
    "df['program_id'] = df['program_id'].astype(int)"
   ]
  },
  {
   "cell_type": "code",
   "execution_count": 8,
   "id": "6417ae32-810c-41e9-beb5-59347b88aa44",
   "metadata": {
    "tags": []
   },
   "outputs": [
    {
     "data": {
      "text/plain": [
       "2    713365\n",
       "3    103411\n",
       "1     30548\n",
       "4         5\n",
       "Name: program_id, dtype: int64"
      ]
     },
     "execution_count": 8,
     "metadata": {},
     "output_type": "execute_result"
    }
   ],
   "source": [
    "df.program_id.value_counts()"
   ]
  },
  {
   "cell_type": "code",
   "execution_count": 9,
   "id": "81159011-3729-4a5c-80c4-21209a32ad67",
   "metadata": {
    "tags": []
   },
   "outputs": [
    {
     "data": {
      "text/plain": [
       "time          0\n",
       "path          0\n",
       "user_id       0\n",
       "cohort_id     0\n",
       "ip            0\n",
       "id            0\n",
       "name          0\n",
       "slack         0\n",
       "start_date    0\n",
       "end_date      0\n",
       "created_at    0\n",
       "updated_at    0\n",
       "program_id    0\n",
       "dtype: int64"
      ]
     },
     "execution_count": 9,
     "metadata": {},
     "output_type": "execute_result"
    }
   ],
   "source": [
    "df.isnull().sum()"
   ]
  },
  {
   "cell_type": "code",
   "execution_count": 10,
   "id": "6c4b3ddb-2642-4ef9-a068-3bd1336cd3d7",
   "metadata": {
    "tags": []
   },
   "outputs": [
    {
     "data": {
      "text/plain": [
       "(847329, 13)"
      ]
     },
     "execution_count": 10,
     "metadata": {},
     "output_type": "execute_result"
    }
   ],
   "source": [
    "df.shape"
   ]
  },
  {
   "cell_type": "markdown",
   "id": "10f61466-4101-4236-8509-ab53fa90e631",
   "metadata": {
    "tags": []
   },
   "source": [
    "# 1. Which lesson appears to attract the most traffic consistently across cohorts (per program)?"
   ]
  },
  {
   "cell_type": "markdown",
   "id": "a9526872-e87f-403c-a14f-336395498b05",
   "metadata": {},
   "source": [
    "## Program 1"
   ]
  },
  {
   "cell_type": "code",
   "execution_count": 11,
   "id": "ae4a777a-653c-4f2b-ad97-0428c462087f",
   "metadata": {
    "tags": []
   },
   "outputs": [],
   "source": [
    "lessons = df[[\"program_id\", \"cohort_id\", \"path\"]]\n",
    "program_1_lessons = lessons[lessons[\"program_id\"] == 1]"
   ]
  },
  {
   "cell_type": "code",
   "execution_count": 12,
   "id": "f8c62e96-c2ea-44af-a1fc-ff7868f17474",
   "metadata": {
    "tags": []
   },
   "outputs": [],
   "source": [
    "program_1_cohort_lesson_traffic = program_1_lessons.groupby([\"cohort_id\", \"path\"]).size().reset_index(name=\"traffic\")"
   ]
  },
  {
   "cell_type": "code",
   "execution_count": null,
   "id": "7ea5bd54-54a3-48bf-8343-a3768153a91c",
   "metadata": {},
   "outputs": [],
   "source": [
    "lesson_traffic_total = program_1_cohort_lesson_traffic.groupby(\"path\")[\"traffic\"].sum().reset_index()\n",
    "\n",
    "\n",
    "top_lessons = lesson_traffic_total.nlargest(4, \"traffic\")\n",
    "\n",
    "print(\"Top 4 most visited lessons:\")\n",
    "for index, lesson in top_lessons.iterrows():\n",
    "    print(\"Lesson Path:\", lesson[\"path\"])\n",
    "    print(\"Total Traffic:\", lesson[\"traffic\"])\n",
    "    print(\"---------------------------\")\n"
   ]
  },
  {
   "cell_type": "code",
   "execution_count": 13,
   "id": "e085d8c3-48be-47cc-8638-cef9d00326e5",
   "metadata": {
    "tags": []
   },
   "outputs": [
    {
     "name": "stdout",
     "output_type": "stream",
     "text": [
      "Top 4 most visited lessons:\n",
      "Lesson Path: /\n",
      "Total Traffic: 1681\n",
      "---------------------------\n",
      "Lesson Path: index.html\n",
      "Total Traffic: 1011\n",
      "---------------------------\n",
      "Lesson Path: javascript-i\n",
      "Total Traffic: 736\n",
      "---------------------------\n",
      "Lesson Path: html-css\n",
      "Total Traffic: 542\n",
      "---------------------------\n"
     ]
    }
   ],
   "source": [
    "lesson_traffic_total = program_1_cohort_lesson_traffic.groupby(\"path\")[\"traffic\"].sum().reset_index()\n",
    "\n",
    "\n",
    "top_lessons = lesson_traffic_total.nlargest(4, \"traffic\")\n",
    "\n",
    "print(\"Top 4 most visited lessons:\")\n",
    "for index, lesson in top_lessons.iterrows():\n",
    "    print(\"Lesson Path:\", lesson[\"path\"])\n",
    "    print(\"Total Traffic:\", lesson[\"traffic\"])\n",
    "    print(\"---------------------------\")\n"
   ]
  },
  {
   "cell_type": "markdown",
   "id": "2f4efdb7-a12c-4707-a34f-fa6ab047a38b",
   "metadata": {},
   "source": [
    "## Program 2"
   ]
  },
  {
   "cell_type": "code",
   "execution_count": 14,
   "id": "3e0ae23b-22c7-4dc5-8146-fd8ba90372df",
   "metadata": {
    "tags": []
   },
   "outputs": [],
   "source": [
    "lessons = df[[\"program_id\", \"cohort_id\", \"path\"]]\n",
    "program_2_lessons = lessons[lessons[\"program_id\"] == 2]"
   ]
  },
  {
   "cell_type": "code",
   "execution_count": 15,
   "id": "fd359efb-6f7a-43dc-b1c5-288f452fe9c0",
   "metadata": {
    "tags": []
   },
   "outputs": [],
   "source": [
    "program_2_cohort_lesson_traffic = program_2_lessons.groupby([\"cohort_id\", \"path\"]).size().reset_index(name=\"traffic\")"
   ]
  },
  {
   "cell_type": "code",
   "execution_count": 16,
   "id": "a7a4ef0c-8292-43e7-b0d8-783a9093e134",
   "metadata": {
    "tags": []
   },
   "outputs": [
    {
     "name": "stdout",
     "output_type": "stream",
     "text": [
      "Top 4 most visited lessons:\n",
      "Lesson Path: /\n",
      "Total Traffic: 1681\n",
      "---------------------------\n",
      "Lesson Path: index.html\n",
      "Total Traffic: 1011\n",
      "---------------------------\n",
      "Lesson Path: javascript-i\n",
      "Total Traffic: 736\n",
      "---------------------------\n",
      "Lesson Path: html-css\n",
      "Total Traffic: 542\n",
      "---------------------------\n"
     ]
    }
   ],
   "source": [
    "lesson_traffic_total = program_1_cohort_lesson_traffic.groupby(\"path\")[\"traffic\"].sum().reset_index()\n",
    "\n",
    "\n",
    "top_lessons = lesson_traffic_total.nlargest(4, \"traffic\")\n",
    "\n",
    "print(\"Top 4 most visited lessons:\")\n",
    "for index, lesson in top_lessons.iterrows():\n",
    "    print(\"Lesson Path:\", lesson[\"path\"])\n",
    "    print(\"Total Traffic:\", lesson[\"traffic\"])\n",
    "    print(\"---------------------------\")\n"
   ]
  },
  {
   "cell_type": "markdown",
   "id": "e72fa43f-c016-47c4-bd4d-62108652b1d2",
   "metadata": {},
   "source": [
    "# Program 3"
   ]
  },
  {
   "cell_type": "code",
   "execution_count": 17,
   "id": "9afee1ab-b552-4b85-b68e-9f3c0ef37b10",
   "metadata": {
    "tags": []
   },
   "outputs": [],
   "source": [
    "lessons = df[[\"program_id\", \"cohort_id\", \"path\"]]\n",
    "program_3_lessons = lessons[lessons[\"program_id\"] == 3]"
   ]
  },
  {
   "cell_type": "code",
   "execution_count": 18,
   "id": "d757611a-c10d-4649-bc7f-7111f5483091",
   "metadata": {
    "tags": []
   },
   "outputs": [],
   "source": [
    "program_3_cohort_lesson_traffic = program_3_lessons.groupby([\"cohort_id\", \"path\"]).size().reset_index(name=\"traffic\")"
   ]
  },
  {
   "cell_type": "code",
   "execution_count": 19,
   "id": "7382630a-836c-4a0f-92ac-08da994cb973",
   "metadata": {
    "tags": []
   },
   "outputs": [
    {
     "name": "stdout",
     "output_type": "stream",
     "text": [
      "Top 4 most visited lessons:\n",
      "Lesson Path: /\n",
      "Total Traffic: 8358\n",
      "---------------------------\n",
      "Lesson Path: search/search_index.json\n",
      "Total Traffic: 2203\n",
      "---------------------------\n",
      "Lesson Path: classification/overview\n",
      "Total Traffic: 1785\n",
      "---------------------------\n",
      "Lesson Path: 1-fundamentals/modern-data-scientist.jpg\n",
      "Total Traffic: 1655\n",
      "---------------------------\n"
     ]
    }
   ],
   "source": [
    "lesson_traffic_total = program_3_cohort_lesson_traffic.groupby(\"path\")[\"traffic\"].sum().reset_index()\n",
    "\n",
    "\n",
    "top_lessons = lesson_traffic_total.nlargest(4, \"traffic\")\n",
    "\n",
    "print(\"Top 4 most visited lessons:\")\n",
    "for index, lesson in top_lessons.iterrows():\n",
    "    print(\"Lesson Path:\", lesson[\"path\"])\n",
    "    print(\"Total Traffic:\", lesson[\"traffic\"])\n",
    "    print(\"---------------------------\")\n"
   ]
  },
  {
   "cell_type": "markdown",
   "id": "76e73026-1c43-4fd0-a2b9-afde1cd9c0c3",
   "metadata": {},
   "source": [
    "## Program 4"
   ]
  },
  {
   "cell_type": "code",
   "execution_count": 20,
   "id": "4445b612-024a-488b-85ca-c35e5a0afbd2",
   "metadata": {
    "tags": []
   },
   "outputs": [],
   "source": [
    "lessons = df[[\"program_id\", \"cohort_id\", \"path\"]]\n",
    "program_4_lessons = lessons[lessons[\"program_id\"] == 4]"
   ]
  },
  {
   "cell_type": "code",
   "execution_count": 21,
   "id": "b10b0b20-16d9-4620-8dd0-ec2a6b05522c",
   "metadata": {
    "tags": []
   },
   "outputs": [],
   "source": [
    "program_4_cohort_lesson_traffic = program_4_lessons.groupby([\"cohort_id\", \"path\"]).size().reset_index(name=\"traffic\")"
   ]
  },
  {
   "cell_type": "code",
   "execution_count": 22,
   "id": "db583fe4-fd5b-4bdf-a0ff-c49684a9ffb7",
   "metadata": {
    "tags": []
   },
   "outputs": [
    {
     "data": {
      "text/html": [
       "<div>\n",
       "<style scoped>\n",
       "    .dataframe tbody tr th:only-of-type {\n",
       "        vertical-align: middle;\n",
       "    }\n",
       "\n",
       "    .dataframe tbody tr th {\n",
       "        vertical-align: top;\n",
       "    }\n",
       "\n",
       "    .dataframe thead th {\n",
       "        text-align: right;\n",
       "    }\n",
       "</style>\n",
       "<table border=\"1\" class=\"dataframe\">\n",
       "  <thead>\n",
       "    <tr style=\"text-align: right;\">\n",
       "      <th></th>\n",
       "      <th>cohort_id</th>\n",
       "      <th>path</th>\n",
       "      <th>traffic</th>\n",
       "    </tr>\n",
       "  </thead>\n",
       "  <tbody>\n",
       "    <tr>\n",
       "      <th>0</th>\n",
       "      <td>9</td>\n",
       "      <td>/</td>\n",
       "      <td>1</td>\n",
       "    </tr>\n",
       "    <tr>\n",
       "      <th>1</th>\n",
       "      <td>9</td>\n",
       "      <td>content/html-css</td>\n",
       "      <td>2</td>\n",
       "    </tr>\n",
       "    <tr>\n",
       "      <th>2</th>\n",
       "      <td>9</td>\n",
       "      <td>content/html-css/gitbook/images/favicon.ico</td>\n",
       "      <td>1</td>\n",
       "    </tr>\n",
       "    <tr>\n",
       "      <th>3</th>\n",
       "      <td>9</td>\n",
       "      <td>content/html-css/introduction.html</td>\n",
       "      <td>1</td>\n",
       "    </tr>\n",
       "  </tbody>\n",
       "</table>\n",
       "</div>"
      ],
      "text/plain": [
       "   cohort_id                                         path  traffic\n",
       "0          9                                            /        1\n",
       "1          9                             content/html-css        2\n",
       "2          9  content/html-css/gitbook/images/favicon.ico        1\n",
       "3          9           content/html-css/introduction.html        1"
      ]
     },
     "execution_count": 22,
     "metadata": {},
     "output_type": "execute_result"
    }
   ],
   "source": [
    "program_4_cohort_lesson_traffic"
   ]
  },
  {
   "cell_type": "code",
   "execution_count": 23,
   "id": "154bbd9b-3dfd-4f8c-9a23-324b87e10de1",
   "metadata": {
    "tags": []
   },
   "outputs": [
    {
     "name": "stdout",
     "output_type": "stream",
     "text": [
      "Top 4 most visited lessons:\n",
      "Lesson Path: content/html-css\n",
      "Total Traffic: 2\n",
      "---------------------------\n",
      "Lesson Path: /\n",
      "Total Traffic: 1\n",
      "---------------------------\n",
      "Lesson Path: content/html-css/gitbook/images/favicon.ico\n",
      "Total Traffic: 1\n",
      "---------------------------\n",
      "Lesson Path: content/html-css/introduction.html\n",
      "Total Traffic: 1\n",
      "---------------------------\n"
     ]
    }
   ],
   "source": [
    "lesson_traffic_total = program_4_cohort_lesson_traffic.groupby(\"path\")[\"traffic\"].sum().reset_index()\n",
    "\n",
    "\n",
    "top_lessons = lesson_traffic_total.nlargest(10, \"traffic\")\n",
    "\n",
    "print(\"Top 4 most visited lessons:\")\n",
    "for index, lesson in top_lessons.iterrows():\n",
    "    print(\"Lesson Path:\", lesson[\"path\"])\n",
    "    print(\"Total Traffic:\", lesson[\"traffic\"])\n",
    "    print(\"---------------------------\")\n"
   ]
  },
  {
   "cell_type": "markdown",
   "id": "b1759706-0069-4b9e-93f8-4fb7802812a5",
   "metadata": {},
   "source": [
    "### In conclusion here are the most visited lessons across cohorts per program:\n",
    "\n",
    "- program 1: javascript-i\n",
    "- program 2: javascript-i\n",
    "- program 3: classification/overview\n",
    "- program 4: content/html-css"
   ]
  },
  {
   "cell_type": "markdown",
   "id": "96bb57c5-3fb5-4e78-82d7-5b8c16d2e93d",
   "metadata": {},
   "source": [
    "# 7. And Which lessons are least accessed?"
   ]
  },
  {
   "cell_type": "code",
   "execution_count": 24,
   "id": "a15d0083-4393-4116-9c0e-1438fa3eac54",
   "metadata": {
    "tags": []
   },
   "outputs": [],
   "source": [
    "pd.set_option('display.max_colwidth', None)\n",
    "\n",
    "all_programs_data = [program_1_cohort_lesson_traffic, program_2_cohort_lesson_traffic, program_3_cohort_lesson_traffic]  # Add more dataframes if needed\n",
    "combined_data = pd.concat(all_programs_data)\n",
    "\n",
    "lesson_traffic_total = combined_data.groupby(\"path\")[\"traffic\"].sum().reset_index()\n",
    "\n",
    "pattern = \"^[^.]+/[^.]+$\"\n",
    "\n",
    "\n",
    "lessons_with_traffic_equal_to_1 = lesson_traffic_total[\n",
    "    (lesson_traffic_total[\"traffic\"] == 1) &\n",
    "    (lesson_traffic_total[\"path\"].str.contains(\".+/.+\")) &\n",
    "    (lesson_traffic_total[\"path\"].str.match(pattern))\n",
    "]"
   ]
  },
  {
   "cell_type": "code",
   "execution_count": 26,
   "id": "c29a58c0-cba2-4ce0-9b02-5e8b20368cf3",
   "metadata": {
    "tags": []
   },
   "outputs": [
    {
     "data": {
      "text/html": [
       "<div>\n",
       "<style scoped>\n",
       "    .dataframe tbody tr th:only-of-type {\n",
       "        vertical-align: middle;\n",
       "    }\n",
       "\n",
       "    .dataframe tbody tr th {\n",
       "        vertical-align: top;\n",
       "    }\n",
       "\n",
       "    .dataframe thead th {\n",
       "        text-align: right;\n",
       "    }\n",
       "</style>\n",
       "<table border=\"1\" class=\"dataframe\">\n",
       "  <thead>\n",
       "    <tr style=\"text-align: right;\">\n",
       "      <th></th>\n",
       "      <th>path</th>\n",
       "      <th>traffic</th>\n",
       "    </tr>\n",
       "  </thead>\n",
       "  <tbody>\n",
       "    <tr>\n",
       "      <th>63</th>\n",
       "      <td>10-nlp/2-regular-expressions</td>\n",
       "      <td>1</td>\n",
       "    </tr>\n",
       "    <tr>\n",
       "      <th>64</th>\n",
       "      <td>10-nlp/3-acquire</td>\n",
       "      <td>1</td>\n",
       "    </tr>\n",
       "    <tr>\n",
       "      <th>68</th>\n",
       "      <td>10-nlp/exercises</td>\n",
       "      <td>1</td>\n",
       "    </tr>\n",
       "    <tr>\n",
       "      <th>99</th>\n",
       "      <td>11-distributed-ml/3-getting-started</td>\n",
       "      <td>1</td>\n",
       "    </tr>\n",
       "    <tr>\n",
       "      <th>100</th>\n",
       "      <td>11-distributed-ml/4-acquire</td>\n",
       "      <td>1</td>\n",
       "    </tr>\n",
       "    <tr>\n",
       "      <th>...</th>\n",
       "      <td>...</td>\n",
       "      <td>...</td>\n",
       "    </tr>\n",
       "    <tr>\n",
       "      <th>2203</th>\n",
       "      <td>users/1/edit</td>\n",
       "      <td>1</td>\n",
       "    </tr>\n",
       "    <tr>\n",
       "      <th>2204</th>\n",
       "      <td>users/167</td>\n",
       "      <td>1</td>\n",
       "    </tr>\n",
       "    <tr>\n",
       "      <th>2205</th>\n",
       "      <td>users/2/edit</td>\n",
       "      <td>1</td>\n",
       "    </tr>\n",
       "    <tr>\n",
       "      <th>2206</th>\n",
       "      <td>users/913</td>\n",
       "      <td>1</td>\n",
       "    </tr>\n",
       "    <tr>\n",
       "      <th>2215</th>\n",
       "      <td>web-design/ux</td>\n",
       "      <td>1</td>\n",
       "    </tr>\n",
       "  </tbody>\n",
       "</table>\n",
       "<p>185 rows × 2 columns</p>\n",
       "</div>"
      ],
      "text/plain": [
       "                                     path  traffic\n",
       "63           10-nlp/2-regular-expressions        1\n",
       "64                       10-nlp/3-acquire        1\n",
       "68                       10-nlp/exercises        1\n",
       "99    11-distributed-ml/3-getting-started        1\n",
       "100           11-distributed-ml/4-acquire        1\n",
       "...                                   ...      ...\n",
       "2203                         users/1/edit        1\n",
       "2204                            users/167        1\n",
       "2205                         users/2/edit        1\n",
       "2206                            users/913        1\n",
       "2215                        web-design/ux        1\n",
       "\n",
       "[185 rows x 2 columns]"
      ]
     },
     "execution_count": 26,
     "metadata": {},
     "output_type": "execute_result"
    }
   ],
   "source": [
    "lessons_with_traffic_equal_to_1"
   ]
  },
  {
   "cell_type": "code",
   "execution_count": 27,
   "id": "64935368-c82c-42bd-a3ce-77f5f1bcf774",
   "metadata": {
    "tags": []
   },
   "outputs": [
    {
     "data": {
      "text/plain": [
       "(185, 2)"
      ]
     },
     "execution_count": 27,
     "metadata": {},
     "output_type": "execute_result"
    }
   ],
   "source": [
    "lessons_with_traffic_equal_to_1.shape"
   ]
  },
  {
   "cell_type": "markdown",
   "id": "a6c0d096-40dd-49b6-b15c-9d49ab989fb8",
   "metadata": {
    "tags": []
   },
   "source": [
    "## Looking through the lessons with the least traffic which was 1, there were lessons that no longer exist in the current curriculum and had testing titles such as asdfasdf as the lesson name. This tells me that there may at some point have been testing website pages. I would need a current website paths to ensure I am not delivering lessons that were \"least accessed\" that were never technically a lesson to began with. Using the current data, here are the 5 least visited lessons"
   ]
  },
  {
   "cell_type": "markdown",
   "id": "d240a816-9c6f-4a8e-86fa-0cd0c1cbe52e",
   "metadata": {},
   "source": [
    "\n",
    "- nlp/2-regular-expressions\n",
    "- nlp/3-acquire\n",
    "- nlp/exercises\n",
    "- distributed-ml/3-getting-started\n",
    "- distributed-ml/4-acquire"
   ]
  },
  {
   "cell_type": "markdown",
   "id": "f96e528e-29a0-457e-a6cb-da26a4a6c934",
   "metadata": {
    "tags": []
   },
   "source": [
    "*** There are 185 more lessons with a traffic of 1, this is just 5 ***"
   ]
  }
 ],
 "metadata": {
  "kernelspec": {
   "display_name": "Python 3 (ipykernel)",
   "language": "python",
   "name": "python3"
  },
  "language_info": {
   "codemirror_mode": {
    "name": "ipython",
    "version": 3
   },
   "file_extension": ".py",
   "mimetype": "text/x-python",
   "name": "python",
   "nbconvert_exporter": "python",
   "pygments_lexer": "ipython3",
   "version": "3.10.9"
  }
 },
 "nbformat": 4,
 "nbformat_minor": 5
}
