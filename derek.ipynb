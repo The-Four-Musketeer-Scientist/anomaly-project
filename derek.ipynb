{
 "cells": [
  {
   "cell_type": "code",
   "execution_count": 4,
   "id": "063383df-c4ff-4317-8fc8-7a0a88562500",
   "metadata": {},
   "outputs": [],
   "source": [
    "import matplotlib.pyplot as plt\n",
    "import os\n",
    "\n",
    "import numpy as np\n",
    "import pandas as pd\n",
    "import seaborn as sns\n",
    "from env import get_db_url"
   ]
  },
  {
   "cell_type": "code",
   "execution_count": 5,
   "id": "6e20dfa4",
   "metadata": {},
   "outputs": [],
   "source": [
    "def get_log_data():\n",
    "    df = pd.read_csv('anonymized-curriculum-access.txt', sep=' ', header=None,\n",
    "                     names=['Timestamp', 'Resource', 'User_ID', 'Access_Type', 'IP_Address'])\n",
    "    return df\n",
    "    "
   ]
  },
  {
   "cell_type": "code",
   "execution_count": 6,
   "id": "90e22e55",
   "metadata": {},
   "outputs": [],
   "source": [
    "def prep_log_data(df):\n",
    "    \n",
    "    '''\n",
    "    This function preps the data from get_crime_data and does the necessary step to cleaning the dataframe\n",
    "    '''\n",
    "    \n",
    "    \n",
    "    df['date'] = pd.to_datetime(df['date'])\n",
    "    df.set_index('date', inplace=True) \n",
    "    df = df.resample('D')['path'].count()\n",
    "    \n",
    "    \n",
    "    return df    "
   ]
  },
  {
   "cell_type": "code",
   "execution_count": 7,
   "id": "518b4191",
   "metadata": {},
   "outputs": [
    {
     "data": {
      "text/html": [
       "<div>\n",
       "<style scoped>\n",
       "    .dataframe tbody tr th:only-of-type {\n",
       "        vertical-align: middle;\n",
       "    }\n",
       "\n",
       "    .dataframe tbody tr th {\n",
       "        vertical-align: top;\n",
       "    }\n",
       "\n",
       "    .dataframe thead th {\n",
       "        text-align: right;\n",
       "    }\n",
       "</style>\n",
       "<table border=\"1\" class=\"dataframe\">\n",
       "  <thead>\n",
       "    <tr style=\"text-align: right;\">\n",
       "      <th></th>\n",
       "      <th>Timestamp</th>\n",
       "      <th>Resource</th>\n",
       "      <th>User_ID</th>\n",
       "      <th>Access_Type</th>\n",
       "      <th>IP_Address</th>\n",
       "    </tr>\n",
       "  </thead>\n",
       "  <tbody>\n",
       "    <tr>\n",
       "      <th>2018-01-26</th>\n",
       "      <td>09:55:03</td>\n",
       "      <td>/</td>\n",
       "      <td>1</td>\n",
       "      <td>8.0</td>\n",
       "      <td>97.105.19.61</td>\n",
       "    </tr>\n",
       "    <tr>\n",
       "      <th>2018-01-26</th>\n",
       "      <td>09:56:02</td>\n",
       "      <td>java-ii</td>\n",
       "      <td>1</td>\n",
       "      <td>8.0</td>\n",
       "      <td>97.105.19.61</td>\n",
       "    </tr>\n",
       "    <tr>\n",
       "      <th>2018-01-26</th>\n",
       "      <td>09:56:05</td>\n",
       "      <td>java-ii/object-oriented-programming</td>\n",
       "      <td>1</td>\n",
       "      <td>8.0</td>\n",
       "      <td>97.105.19.61</td>\n",
       "    </tr>\n",
       "    <tr>\n",
       "      <th>2018-01-26</th>\n",
       "      <td>09:56:06</td>\n",
       "      <td>slides/object_oriented_programming</td>\n",
       "      <td>1</td>\n",
       "      <td>8.0</td>\n",
       "      <td>97.105.19.61</td>\n",
       "    </tr>\n",
       "    <tr>\n",
       "      <th>2018-01-26</th>\n",
       "      <td>09:56:24</td>\n",
       "      <td>javascript-i/conditionals</td>\n",
       "      <td>2</td>\n",
       "      <td>22.0</td>\n",
       "      <td>97.105.19.61</td>\n",
       "    </tr>\n",
       "  </tbody>\n",
       "</table>\n",
       "</div>"
      ],
      "text/plain": [
       "           Timestamp                             Resource  User_ID  \\\n",
       "2018-01-26  09:55:03                                    /        1   \n",
       "2018-01-26  09:56:02                              java-ii        1   \n",
       "2018-01-26  09:56:05  java-ii/object-oriented-programming        1   \n",
       "2018-01-26  09:56:06   slides/object_oriented_programming        1   \n",
       "2018-01-26  09:56:24            javascript-i/conditionals        2   \n",
       "\n",
       "            Access_Type    IP_Address  \n",
       "2018-01-26          8.0  97.105.19.61  \n",
       "2018-01-26          8.0  97.105.19.61  \n",
       "2018-01-26          8.0  97.105.19.61  \n",
       "2018-01-26          8.0  97.105.19.61  \n",
       "2018-01-26         22.0  97.105.19.61  "
      ]
     },
     "execution_count": 7,
     "metadata": {},
     "output_type": "execute_result"
    }
   ],
   "source": [
    "df = get_log_data()\n",
    "df.head()"
   ]
  },
  {
   "cell_type": "code",
   "execution_count": 9,
   "id": "a1a9cc2e",
   "metadata": {},
   "outputs": [
    {
     "data": {
      "text/plain": [
       "(900223, 5)"
      ]
     },
     "execution_count": 9,
     "metadata": {},
     "output_type": "execute_result"
    }
   ],
   "source": [
    "df.shape"
   ]
  },
  {
   "cell_type": "code",
   "execution_count": 10,
   "id": "7699a859",
   "metadata": {},
   "outputs": [
    {
     "data": {
      "text/html": [
       "<div>\n",
       "<style scoped>\n",
       "    .dataframe tbody tr th:only-of-type {\n",
       "        vertical-align: middle;\n",
       "    }\n",
       "\n",
       "    .dataframe tbody tr th {\n",
       "        vertical-align: top;\n",
       "    }\n",
       "\n",
       "    .dataframe thead th {\n",
       "        text-align: right;\n",
       "    }\n",
       "</style>\n",
       "<table border=\"1\" class=\"dataframe\">\n",
       "  <thead>\n",
       "    <tr style=\"text-align: right;\">\n",
       "      <th></th>\n",
       "      <th>User_ID</th>\n",
       "      <th>Access_Type</th>\n",
       "    </tr>\n",
       "  </thead>\n",
       "  <tbody>\n",
       "    <tr>\n",
       "      <th>count</th>\n",
       "      <td>900223.000000</td>\n",
       "      <td>847330.000000</td>\n",
       "    </tr>\n",
       "    <tr>\n",
       "      <th>mean</th>\n",
       "      <td>458.825707</td>\n",
       "      <td>48.501049</td>\n",
       "    </tr>\n",
       "    <tr>\n",
       "      <th>std</th>\n",
       "      <td>249.296767</td>\n",
       "      <td>32.795482</td>\n",
       "    </tr>\n",
       "    <tr>\n",
       "      <th>min</th>\n",
       "      <td>1.000000</td>\n",
       "      <td>1.000000</td>\n",
       "    </tr>\n",
       "    <tr>\n",
       "      <th>25%</th>\n",
       "      <td>269.000000</td>\n",
       "      <td>28.000000</td>\n",
       "    </tr>\n",
       "    <tr>\n",
       "      <th>50%</th>\n",
       "      <td>475.000000</td>\n",
       "      <td>33.000000</td>\n",
       "    </tr>\n",
       "    <tr>\n",
       "      <th>75%</th>\n",
       "      <td>660.000000</td>\n",
       "      <td>57.000000</td>\n",
       "    </tr>\n",
       "    <tr>\n",
       "      <th>max</th>\n",
       "      <td>981.000000</td>\n",
       "      <td>139.000000</td>\n",
       "    </tr>\n",
       "  </tbody>\n",
       "</table>\n",
       "</div>"
      ],
      "text/plain": [
       "             User_ID    Access_Type\n",
       "count  900223.000000  847330.000000\n",
       "mean      458.825707      48.501049\n",
       "std       249.296767      32.795482\n",
       "min         1.000000       1.000000\n",
       "25%       269.000000      28.000000\n",
       "50%       475.000000      33.000000\n",
       "75%       660.000000      57.000000\n",
       "max       981.000000     139.000000"
      ]
     },
     "execution_count": 10,
     "metadata": {},
     "output_type": "execute_result"
    }
   ],
   "source": [
    "df.describe()"
   ]
  },
  {
   "cell_type": "code",
   "execution_count": 11,
   "id": "cdbb9e3f",
   "metadata": {},
   "outputs": [
    {
     "name": "stdout",
     "output_type": "stream",
     "text": [
      "<class 'pandas.core.frame.DataFrame'>\n",
      "Index: 900223 entries, 2018-01-26 to 2021-04-21\n",
      "Data columns (total 5 columns):\n",
      " #   Column       Non-Null Count   Dtype  \n",
      "---  ------       --------------   -----  \n",
      " 0   Timestamp    900223 non-null  object \n",
      " 1   Resource     900222 non-null  object \n",
      " 2   User_ID      900223 non-null  int64  \n",
      " 3   Access_Type  847330 non-null  float64\n",
      " 4   IP_Address   900223 non-null  object \n",
      "dtypes: float64(1), int64(1), object(3)\n",
      "memory usage: 41.2+ MB\n"
     ]
    }
   ],
   "source": [
    "df.info()"
   ]
  },
  {
   "cell_type": "code",
   "execution_count": 14,
   "id": "8b4d6343",
   "metadata": {},
   "outputs": [
    {
     "data": {
      "text/plain": [
       "array([  8.,  22.,  21.,   1.,  16.,  18.,  19.,  nan,  13.,  14.,  15.,\n",
       "         7.,   4.,  12.,  17.,  23.,   2.,   9.,  11.,  24.,  25.,  26.,\n",
       "         6.,  27.,  28.,  29.,  31.,  32.,  33.,  34.,  51.,  52.,  53.,\n",
       "        55.,  56.,  57.,   5.,  58.,  59.,  61.,  62., 132., 134., 133.,\n",
       "       135., 138., 137., 139.])"
      ]
     },
     "execution_count": 14,
     "metadata": {},
     "output_type": "execute_result"
    }
   ],
   "source": [
    "df.Access_Type.value_counts()"
   ]
  },
  {
   "cell_type": "code",
   "execution_count": 20,
   "id": "140d0838",
   "metadata": {},
   "outputs": [
    {
     "data": {
      "text/plain": [
       "2313"
      ]
     },
     "execution_count": 20,
     "metadata": {},
     "output_type": "execute_result"
    }
   ],
   "source": [
    "df.Resource.nunique()"
   ]
  },
  {
   "cell_type": "code",
   "execution_count": 22,
   "id": "8394d665",
   "metadata": {},
   "outputs": [
    {
     "data": {
      "text/plain": [
       "<pandas.core.groupby.generic.DataFrameGroupBy object at 0x15cfe5cf0>"
      ]
     },
     "execution_count": 22,
     "metadata": {},
     "output_type": "execute_result"
    }
   ],
   "source": [
    "df_users = df.groupby('User_ID')\n",
    "df_users"
   ]
  },
  {
   "cell_type": "code",
   "execution_count": 27,
   "id": "68c0c1c3",
   "metadata": {},
   "outputs": [
    {
     "data": {
      "text/html": [
       "<div>\n",
       "<style scoped>\n",
       "    .dataframe tbody tr th:only-of-type {\n",
       "        vertical-align: middle;\n",
       "    }\n",
       "\n",
       "    .dataframe tbody tr th {\n",
       "        vertical-align: top;\n",
       "    }\n",
       "\n",
       "    .dataframe thead th {\n",
       "        text-align: right;\n",
       "    }\n",
       "</style>\n",
       "<table border=\"1\" class=\"dataframe\">\n",
       "  <thead>\n",
       "    <tr style=\"text-align: right;\">\n",
       "      <th></th>\n",
       "      <th>User_ID</th>\n",
       "      <th>Resource</th>\n",
       "      <th>resource_given_user</th>\n",
       "    </tr>\n",
       "  </thead>\n",
       "  <tbody>\n",
       "    <tr>\n",
       "      <th>0</th>\n",
       "      <td>1</td>\n",
       "      <td>/</td>\n",
       "      <td>0.132496</td>\n",
       "    </tr>\n",
       "    <tr>\n",
       "      <th>1</th>\n",
       "      <td>1</td>\n",
       "      <td>6-regression/1-overview</td>\n",
       "      <td>0.019854</td>\n",
       "    </tr>\n",
       "    <tr>\n",
       "      <th>2</th>\n",
       "      <td>1</td>\n",
       "      <td>classification/overview</td>\n",
       "      <td>0.015937</td>\n",
       "    </tr>\n",
       "    <tr>\n",
       "      <th>3</th>\n",
       "      <td>1</td>\n",
       "      <td>appendix</td>\n",
       "      <td>0.014587</td>\n",
       "    </tr>\n",
       "    <tr>\n",
       "      <th>4</th>\n",
       "      <td>1</td>\n",
       "      <td>spring</td>\n",
       "      <td>0.011750</td>\n",
       "    </tr>\n",
       "    <tr>\n",
       "      <th>...</th>\n",
       "      <td>...</td>\n",
       "      <td>...</td>\n",
       "      <td>...</td>\n",
       "    </tr>\n",
       "    <tr>\n",
       "      <th>116103</th>\n",
       "      <td>981</td>\n",
       "      <td>/</td>\n",
       "      <td>0.047619</td>\n",
       "    </tr>\n",
       "    <tr>\n",
       "      <th>116104</th>\n",
       "      <td>981</td>\n",
       "      <td>appendix/professional-development/t-block-resume</td>\n",
       "      <td>0.023810</td>\n",
       "    </tr>\n",
       "    <tr>\n",
       "      <th>116105</th>\n",
       "      <td>981</td>\n",
       "      <td>examples/bootstrap-grid/assets.zip</td>\n",
       "      <td>0.023810</td>\n",
       "    </tr>\n",
       "    <tr>\n",
       "      <th>116106</th>\n",
       "      <td>981</td>\n",
       "      <td>html-css/css-ii</td>\n",
       "      <td>0.023810</td>\n",
       "    </tr>\n",
       "    <tr>\n",
       "      <th>116107</th>\n",
       "      <td>981</td>\n",
       "      <td>javascript-ii</td>\n",
       "      <td>0.023810</td>\n",
       "    </tr>\n",
       "  </tbody>\n",
       "</table>\n",
       "<p>116108 rows × 3 columns</p>\n",
       "</div>"
      ],
      "text/plain": [
       "        User_ID                                          Resource  \\\n",
       "0             1                                                 /   \n",
       "1             1                           6-regression/1-overview   \n",
       "2             1                           classification/overview   \n",
       "3             1                                          appendix   \n",
       "4             1                                            spring   \n",
       "...         ...                                               ...   \n",
       "116103      981                                                 /   \n",
       "116104      981  appendix/professional-development/t-block-resume   \n",
       "116105      981                examples/bootstrap-grid/assets.zip   \n",
       "116106      981                                   html-css/css-ii   \n",
       "116107      981                                     javascript-ii   \n",
       "\n",
       "        resource_given_user  \n",
       "0                  0.132496  \n",
       "1                  0.019854  \n",
       "2                  0.015937  \n",
       "3                  0.014587  \n",
       "4                  0.011750  \n",
       "...                     ...  \n",
       "116103             0.047619  \n",
       "116104             0.023810  \n",
       "116105             0.023810  \n",
       "116106             0.023810  \n",
       "116107             0.023810  \n",
       "\n",
       "[116108 rows x 3 columns]"
      ]
     },
     "execution_count": 27,
     "metadata": {},
     "output_type": "execute_result"
    }
   ],
   "source": [
    "resource_given_user = (\n",
    "    df.groupby('User_ID')\n",
    "    .Resource.value_counts(normalize=True)\n",
    "    .rename('resource_given_user')\n",
    "    .reset_index()\n",
    ")\n",
    "resource_given_user\n"
   ]
  },
  {
   "cell_type": "code",
   "execution_count": 32,
   "id": "1bd865d3",
   "metadata": {},
   "outputs": [
    {
     "data": {
      "text/html": [
       "<div>\n",
       "<style scoped>\n",
       "    .dataframe tbody tr th:only-of-type {\n",
       "        vertical-align: middle;\n",
       "    }\n",
       "\n",
       "    .dataframe tbody tr th {\n",
       "        vertical-align: top;\n",
       "    }\n",
       "\n",
       "    .dataframe thead th {\n",
       "        text-align: right;\n",
       "    }\n",
       "</style>\n",
       "<table border=\"1\" class=\"dataframe\">\n",
       "  <thead>\n",
       "    <tr style=\"text-align: right;\">\n",
       "      <th></th>\n",
       "      <th>User_ID</th>\n",
       "      <th>Resource</th>\n",
       "      <th>resource_given_user</th>\n",
       "    </tr>\n",
       "  </thead>\n",
       "  <tbody>\n",
       "    <tr>\n",
       "      <th>3240</th>\n",
       "      <td>11</td>\n",
       "      <td>content/php_iv/classes-and-objects-ii/build-a-...</td>\n",
       "      <td>0.000056</td>\n",
       "    </tr>\n",
       "    <tr>\n",
       "      <th>3150</th>\n",
       "      <td>11</td>\n",
       "      <td>5-stats/2.8-feature-scaling</td>\n",
       "      <td>0.000056</td>\n",
       "    </tr>\n",
       "    <tr>\n",
       "      <th>3149</th>\n",
       "      <td>11</td>\n",
       "      <td>5-stats/2.5-distributions-and-testing</td>\n",
       "      <td>0.000056</td>\n",
       "    </tr>\n",
       "    <tr>\n",
       "      <th>3148</th>\n",
       "      <td>11</td>\n",
       "      <td>5-stats/2.4-power-analysis</td>\n",
       "      <td>0.000056</td>\n",
       "    </tr>\n",
       "    <tr>\n",
       "      <th>3147</th>\n",
       "      <td>11</td>\n",
       "      <td>5-stats/2.1-probability_and_event_interactions</td>\n",
       "      <td>0.000056</td>\n",
       "    </tr>\n",
       "    <tr>\n",
       "      <th>...</th>\n",
       "      <td>...</td>\n",
       "      <td>...</td>\n",
       "      <td>...</td>\n",
       "    </tr>\n",
       "    <tr>\n",
       "      <th>3230</th>\n",
       "      <td>11</td>\n",
       "      <td>content/php_i</td>\n",
       "      <td>0.000056</td>\n",
       "    </tr>\n",
       "    <tr>\n",
       "      <th>3231</th>\n",
       "      <td>11</td>\n",
       "      <td>content/php_i/gitbook/images/favicon.ico</td>\n",
       "      <td>0.000056</td>\n",
       "    </tr>\n",
       "    <tr>\n",
       "      <th>3232</th>\n",
       "      <td>11</td>\n",
       "      <td>content/php_ii</td>\n",
       "      <td>0.000056</td>\n",
       "    </tr>\n",
       "    <tr>\n",
       "      <th>3233</th>\n",
       "      <td>11</td>\n",
       "      <td>content/php_ii/functions-i/arguments.html</td>\n",
       "      <td>0.000056</td>\n",
       "    </tr>\n",
       "    <tr>\n",
       "      <th>3250</th>\n",
       "      <td>11</td>\n",
       "      <td>examples/javascript/ajax-store.html</td>\n",
       "      <td>0.000056</td>\n",
       "    </tr>\n",
       "  </tbody>\n",
       "</table>\n",
       "<p>100 rows × 3 columns</p>\n",
       "</div>"
      ],
      "text/plain": [
       "      User_ID                                           Resource  \\\n",
       "3240       11  content/php_iv/classes-and-objects-ii/build-a-...   \n",
       "3150       11                        5-stats/2.8-feature-scaling   \n",
       "3149       11              5-stats/2.5-distributions-and-testing   \n",
       "3148       11                         5-stats/2.4-power-analysis   \n",
       "3147       11     5-stats/2.1-probability_and_event_interactions   \n",
       "...       ...                                                ...   \n",
       "3230       11                                      content/php_i   \n",
       "3231       11           content/php_i/gitbook/images/favicon.ico   \n",
       "3232       11                                     content/php_ii   \n",
       "3233       11          content/php_ii/functions-i/arguments.html   \n",
       "3250       11                examples/javascript/ajax-store.html   \n",
       "\n",
       "      resource_given_user  \n",
       "3240             0.000056  \n",
       "3150             0.000056  \n",
       "3149             0.000056  \n",
       "3148             0.000056  \n",
       "3147             0.000056  \n",
       "...                   ...  \n",
       "3230             0.000056  \n",
       "3231             0.000056  \n",
       "3232             0.000056  \n",
       "3233             0.000056  \n",
       "3250             0.000056  \n",
       "\n",
       "[100 rows x 3 columns]"
      ]
     },
     "execution_count": 32,
     "metadata": {},
     "output_type": "execute_result"
    }
   ],
   "source": [
    "resource_given_user.sort_values(by='resource_given_user').head(100)"
   ]
  },
  {
   "cell_type": "code",
   "execution_count": 30,
   "id": "252a0926",
   "metadata": {},
   "outputs": [
    {
     "data": {
      "text/plain": [
       "3240    0.000056\n",
       "3150    0.000056\n",
       "3149    0.000056\n",
       "3148    0.000056\n",
       "3147    0.000056\n",
       "3146    0.000056\n",
       "3145    0.000056\n",
       "3144    0.000056\n",
       "3143    0.000056\n",
       "3142    0.000056\n",
       "3141    0.000056\n",
       "3140    0.000056\n",
       "3139    0.000056\n",
       "3138    0.000056\n",
       "3137    0.000056\n",
       "3136    0.000056\n",
       "3151    0.000056\n",
       "3152    0.000056\n",
       "3153    0.000056\n",
       "3154    0.000056\n",
       "3170    0.000056\n",
       "3169    0.000056\n",
       "3168    0.000056\n",
       "3167    0.000056\n",
       "3166    0.000056\n",
       "3165    0.000056\n",
       "3164    0.000056\n",
       "3134    0.000056\n",
       "3163    0.000056\n",
       "3161    0.000056\n",
       "3160    0.000056\n",
       "3159    0.000056\n",
       "3158    0.000056\n",
       "3157    0.000056\n",
       "3156    0.000056\n",
       "3155    0.000056\n",
       "3162    0.000056\n",
       "3133    0.000056\n",
       "3132    0.000056\n",
       "3131    0.000056\n",
       "3110    0.000056\n",
       "3109    0.000056\n",
       "3108    0.000056\n",
       "3107    0.000056\n",
       "3106    0.000056\n",
       "3105    0.000056\n",
       "3104    0.000056\n",
       "3111    0.000056\n",
       "3103    0.000056\n",
       "3101    0.000056\n",
       "Name: resource_given_user, dtype: float64"
      ]
     },
     "execution_count": 30,
     "metadata": {},
     "output_type": "execute_result"
    }
   ],
   "source": [
    "')"
   ]
  },
  {
   "cell_type": "code",
   "execution_count": null,
   "id": "f1cf1067",
   "metadata": {},
   "outputs": [],
   "source": []
  }
 ],
 "metadata": {
  "kernelspec": {
   "display_name": "Python 3 (ipykernel)",
   "language": "python",
   "name": "python3"
  },
  "language_info": {
   "codemirror_mode": {
    "name": "ipython",
    "version": 3
   },
   "file_extension": ".py",
   "mimetype": "text/x-python",
   "name": "python",
   "nbconvert_exporter": "python",
   "pygments_lexer": "ipython3",
   "version": "3.10.9"
  }
 },
 "nbformat": 4,
 "nbformat_minor": 5
}
